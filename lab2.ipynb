{
  "nbformat": 4,
  "nbformat_minor": 0,
  "metadata": {
    "colab": {
      "provenance": [],
      "authorship_tag": "ABX9TyPva8UgOsQrSyZ+zdSWBUZJ",
      "include_colab_link": true
    },
    "kernelspec": {
      "name": "python3",
      "display_name": "Python 3"
    },
    "language_info": {
      "name": "python"
    }
  },
  "cells": [
    {
      "cell_type": "markdown",
      "metadata": {
        "id": "view-in-github",
        "colab_type": "text"
      },
      "source": [
        "<a href=\"https://colab.research.google.com/github/CTEIIU/GaSDP_lab/blob/main/lab2.ipynb\" target=\"_parent\"><img src=\"https://colab.research.google.com/assets/colab-badge.svg\" alt=\"Open In Colab\"/></a>"
      ]
    },
    {
      "cell_type": "code",
      "source": [
        "pip install osmium"
      ],
      "metadata": {
        "colab": {
          "base_uri": "https://localhost:8080/"
        },
        "id": "MOWo0bgASQWj",
        "outputId": "da2bae70-4136-45a0-c9b4-9b29e93e63cd"
      },
      "execution_count": 2,
      "outputs": [
        {
          "output_type": "stream",
          "name": "stdout",
          "text": [
            "Collecting osmium\n",
            "  Downloading osmium-3.7.0-cp310-cp310-manylinux_2_17_x86_64.manylinux2014_x86_64.whl (1.3 MB)\n",
            "\u001b[2K     \u001b[90m━━━━━━━━━━━━━━━━━━━━━━━━━━━━━━━━━━━━━━━━\u001b[0m \u001b[32m1.3/1.3 MB\u001b[0m \u001b[31m6.6 MB/s\u001b[0m eta \u001b[36m0:00:00\u001b[0m\n",
            "\u001b[?25hRequirement already satisfied: requests in /usr/local/lib/python3.10/dist-packages (from osmium) (2.31.0)\n",
            "Requirement already satisfied: charset-normalizer<4,>=2 in /usr/local/lib/python3.10/dist-packages (from requests->osmium) (3.3.2)\n",
            "Requirement already satisfied: idna<4,>=2.5 in /usr/local/lib/python3.10/dist-packages (from requests->osmium) (3.6)\n",
            "Requirement already satisfied: urllib3<3,>=1.21.1 in /usr/local/lib/python3.10/dist-packages (from requests->osmium) (2.0.7)\n",
            "Requirement already satisfied: certifi>=2017.4.17 in /usr/local/lib/python3.10/dist-packages (from requests->osmium) (2023.11.17)\n",
            "Installing collected packages: osmium\n",
            "Successfully installed osmium-3.7.0\n"
          ]
        }
      ]
    },
    {
      "cell_type": "code",
      "execution_count": null,
      "metadata": {
        "id": "GifZBQK4NORK"
      },
      "outputs": [],
      "source": [
        "import osmium as osm\n",
        "import pandas as pd\n",
        "\n",
        "class OSMHandler(osm.SimpleHandler):\n",
        "    def __init__(self):\n",
        "        osm.SimpleHandler.__init__(self)\n",
        "        self.osm_data = []\n",
        "\n",
        "    def tag_inventory(self, elem, elem_type):\n",
        "        for tag in elem.tags:\n",
        "            self.osm_data.append([elem_type,\n",
        "                                   elem.id,\n",
        "                                   elem.version,\n",
        "                                   elem.visible,\n",
        "                                   pd.Timestamp(elem.timestamp),\n",
        "                                   elem.uid,\n",
        "                                   elem.user,\n",
        "                                   elem.changeset,\n",
        "                                   len(elem.tags),\n",
        "                                   tag.k,\n",
        "                                   tag.v])\n",
        "\n",
        "    def node(self, n):\n",
        "        self.tag_inventory(n, \"node\")\n",
        "\n",
        "    def way(self, w):\n",
        "        self.tag_inventory(w, \"way\")\n",
        "\n",
        "    def relation(self, r):\n",
        "        self.tag_inventory(r, \"relation\")\n",
        "\n",
        "\n",
        "osmhandler = OSMHandler()\n",
        "# scan the input file and fills the handler list accordingly\n",
        "osmhandler.apply_file(\"sample_data/ural-fed-district-latest.osm.pbf\")\n",
        "\n",
        "# transform the list into a pandas DataFrame\n",
        "data_colnames = ['type', 'id', 'version', 'visible', 'ts', 'uid',\n",
        "                 'user', 'chgset', 'ntags', 'tagkey', 'tagvalue']\n",
        "df_osm = pd.DataFrame(osmhandler.osm_data, columns=data_colnames)\n",
        "df_osm = tag_genome.sort_values(by=['type', 'id', 'ts'])"
      ]
    },
    {
      "cell_type": "markdown",
      "source": [
        "Ниже представлен рабочий фрагмент кода"
      ],
      "metadata": {
        "id": "0pHOGItppqBN"
      }
    },
    {
      "cell_type": "code",
      "source": [
        "import osmium\n",
        "class HotelHandler(osmium.SimpleHandler):\n",
        "  def __init__(self):\n",
        "    super(HotelHandler, self).__init__()\n",
        "    self.hotels = []\n",
        "\n",
        "def node(self, o):\n",
        "  if o.tags.get('tourism') == 'hotel' and 'name' in o.tags:\n",
        "    self.hotels.append(o.tags['name'])\n",
        "\n",
        "\n",
        "h = HotelHandler()\n",
        "h.apply_file(\"sample_data/ural-fed-district-latest.osm.pbf\")\n",
        "\n",
        "print(sorted(h.hotels))"
      ],
      "metadata": {
        "colab": {
          "base_uri": "https://localhost:8080/"
        },
        "id": "snLKvYffpXIv",
        "outputId": "5cd22057-f8cb-4cbb-f087-3131bd695eb8"
      },
      "execution_count": 6,
      "outputs": [
        {
          "output_type": "stream",
          "name": "stdout",
          "text": [
            "[]\n"
          ]
        }
      ]
    }
  ]
}