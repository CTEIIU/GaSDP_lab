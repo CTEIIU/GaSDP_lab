{
  "nbformat": 4,
  "nbformat_minor": 0,
  "metadata": {
    "colab": {
      "provenance": [],
      "authorship_tag": "ABX9TyPR4cPCCQTx1zlK4DFeaklX",
      "include_colab_link": true
    },
    "kernelspec": {
      "name": "python3",
      "display_name": "Python 3"
    },
    "language_info": {
      "name": "python"
    }
  },
  "cells": [
    {
      "cell_type": "markdown",
      "metadata": {
        "id": "view-in-github",
        "colab_type": "text"
      },
      "source": [
        "<a href=\"https://colab.research.google.com/github/CTEIIU/GaSDP_lab/blob/main/lab1.ipynb\" target=\"_parent\"><img src=\"https://colab.research.google.com/assets/colab-badge.svg\" alt=\"Open In Colab\"/></a>"
      ]
    },
    {
      "cell_type": "code",
      "execution_count": 5,
      "metadata": {
        "colab": {
          "base_uri": "https://localhost:8080/"
        },
        "id": "mInGd6JmBLqr",
        "outputId": "d6d65be1-e62a-42a4-adee-b932c22f0df1"
      },
      "outputs": [
        {
          "output_type": "stream",
          "name": "stdout",
          "text": [
            "Requirement already satisfied: fitdecode in /usr/local/lib/python3.10/dist-packages (0.10.0)\n"
          ]
        }
      ],
      "source": [
        "!pip install fitdecode"
      ]
    },
    {
      "cell_type": "code",
      "source": [
        "f1 = open('sample_data/2_5303291541106735851.fit','r')\n",
        "\n",
        "import fitdecode\n",
        "import pandas as pd\n",
        "import os\n",
        "from datetime import datetime, timedelta\n",
        "from typing import Dict, Union, Optional, Tuple\n",
        "from pyproj import CRS\n",
        "import geopandas as gpd\n",
        "from shapely.geometry import LineString\n",
        "import folium\n",
        "import altair as alt\n",
        "record = ['latitube', 'longitube', 'altitube','timestamp','heart_rate','cadence','speed', 'distance']\n",
        "def get_fit_point_data(frame: fitdecode.records.FitDataMessage) -> Optional[Dict[str, Union[float, int, str, datetime]]]:\n",
        "    data: Dict[str, Union[float, int, str, datetime]] = {}\n",
        "\n",
        "    if not (frame.has_field('position_lat') and frame.has_field('position_long')):\n",
        "        return None\n",
        "    else:\n",
        "        data['latitube'] = frame.get_value('position_lat') / ((2 ** 32) / 360)\n",
        "        data['longitube'] = frame.get_value('position_long') / ((2**32) / 360)\n",
        "\n",
        "    for field in record[2:]:\n",
        "        if frame.has_field(field):\n",
        "            data[field] = frame.get_value(field)\n",
        "\n",
        "    return data\n",
        "def get_fit_other_data(col, frame: fitdecode.records.FitDataMessage) -> Optional[Dict[str, Union[float, int, str, datetime]]]:\n",
        "    data: Dict[str, Union[float, int, str, datetime]] = {}\n",
        "\n",
        "    for field in col:\n",
        "        if frame.has_field(field):\n",
        "            data[field] - frame.get_value(field)\n",
        "    return data\n",
        "\n",
        "record_data = []\n",
        "with fitdecode.FitReader('sample_data/2_5303291541106735851.fit') as fit_file:\n",
        "    for frame in fit_file:\n",
        "        if isinstance(frame, fitdecode.records.FitDataMessage):\n",
        "            if frame.name == 'record':\n",
        "                single_point_data = get_fit_point_data(frame)\n",
        "                if single_point_data is not None:\n",
        "                    record_data.append(single_point_data)\n",
        "\n",
        "record_df = pd.DataFrame(record_data, columns=record)\n",
        "line = gpd.GeoDataFrame(crs = CRS('EPSG:4326'), geometry=[LineString(zip(record_df.longitube, record_df.latitube))])\n",
        "line_centroid = line.centroid\n",
        "line_bounds = line.bounds\n",
        "\n",
        "m = folium.Map([line_centroid.y, line_centroid.x], tiles='cartodb positron')\n",
        "folium.GeoJson(line).add_to(m)\n",
        "folium.FitBounds([[line_bounds.miny[0], line_bounds.minx[0]],[line_bounds.maxy[0],line_bounds.maxx[0]]]).add_to(m)\n",
        "m\n",
        "\n",
        "alt.Chart(record_df).mark_point().encode(y='cadence', x='distance', color='heart rate').interactive"
      ],
      "metadata": {
        "colab": {
          "base_uri": "https://localhost:8080/"
        },
        "id": "c6sK2tqNGp2S",
        "outputId": "b4f8d429-9b3f-4c93-af62-f06a03bba8ca"
      },
      "execution_count": 7,
      "outputs": [
        {
          "output_type": "stream",
          "name": "stderr",
          "text": [
            "/usr/local/lib/python3.10/dist-packages/fitdecode/reader.py:909: UserWarning: 'field \"native_field_num\" (idx #0) not found in message \"field_description\"' (local_mesg_num: 0; chunk_offset: 127543); adding dummy dev data...\n",
            "  warnings.warn(msg)\n",
            "<ipython-input-7-ba51c2d9eec0>:47: UserWarning: Geometry is in a geographic CRS. Results from 'centroid' are likely incorrect. Use 'GeoSeries.to_crs()' to re-project geometries to a projected CRS before this operation.\n",
            "\n",
            "  line_centroid = line.centroid\n"
          ]
        },
        {
          "output_type": "execute_result",
          "data": {
            "text/plain": [
              "<bound method Chart.interactive of alt.Chart(...)>"
            ]
          },
          "metadata": {},
          "execution_count": 7
        }
      ]
    },
    {
      "cell_type": "code",
      "source": [],
      "metadata": {
        "id": "NB3yNnj9I5EG"
      },
      "execution_count": 7,
      "outputs": []
    }
  ]
}